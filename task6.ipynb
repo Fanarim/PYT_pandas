{
 "cells": [
  {
   "cell_type": "markdown",
   "metadata": {},
   "source": [
    "# Titanic"
   ]
  },
  {
   "cell_type": "code",
   "execution_count": 1,
   "metadata": {
    "collapsed": false
   },
   "outputs": [],
   "source": [
    "import pandas\n",
    "import numpy\n",
    "import matplotlib\n",
    "import matplotlib.style\n",
    "matplotlib.style.use('ggplot')\n",
    "\n",
    "%matplotlib inline"
   ]
  },
  {
   "cell_type": "code",
   "execution_count": 2,
   "metadata": {
    "collapsed": false
   },
   "outputs": [],
   "source": [
    "titanic_dataset = pandas.read_csv('Titanic.csv', index_col=0)"
   ]
  },
  {
   "cell_type": "code",
   "execution_count": 3,
   "metadata": {
    "collapsed": false
   },
   "outputs": [
    {
     "data": {
      "text/html": [
       "<div>\n",
       "<table border=\"1\" class=\"dataframe\">\n",
       "  <thead>\n",
       "    <tr style=\"text-align: right;\">\n",
       "      <th></th>\n",
       "      <th>Name</th>\n",
       "      <th>PClass</th>\n",
       "      <th>Age</th>\n",
       "      <th>Sex</th>\n",
       "      <th>Survived</th>\n",
       "      <th>SexCode</th>\n",
       "    </tr>\n",
       "  </thead>\n",
       "  <tbody>\n",
       "    <tr>\n",
       "      <th>1</th>\n",
       "      <td>Allen, Miss Elisabeth Walton</td>\n",
       "      <td>1st</td>\n",
       "      <td>29.0</td>\n",
       "      <td>female</td>\n",
       "      <td>1</td>\n",
       "      <td>1</td>\n",
       "    </tr>\n",
       "    <tr>\n",
       "      <th>2</th>\n",
       "      <td>Allison, Miss Helen Loraine</td>\n",
       "      <td>1st</td>\n",
       "      <td>2.0</td>\n",
       "      <td>female</td>\n",
       "      <td>0</td>\n",
       "      <td>1</td>\n",
       "    </tr>\n",
       "    <tr>\n",
       "      <th>3</th>\n",
       "      <td>Allison, Mr Hudson Joshua Creighton</td>\n",
       "      <td>1st</td>\n",
       "      <td>30.0</td>\n",
       "      <td>male</td>\n",
       "      <td>0</td>\n",
       "      <td>0</td>\n",
       "    </tr>\n",
       "    <tr>\n",
       "      <th>4</th>\n",
       "      <td>Allison, Mrs Hudson JC (Bessie Waldo Daniels)</td>\n",
       "      <td>1st</td>\n",
       "      <td>25.0</td>\n",
       "      <td>female</td>\n",
       "      <td>0</td>\n",
       "      <td>1</td>\n",
       "    </tr>\n",
       "  </tbody>\n",
       "</table>\n",
       "</div>"
      ],
      "text/plain": [
       "                                            Name PClass   Age     Sex  \\\n",
       "1                   Allen, Miss Elisabeth Walton    1st  29.0  female   \n",
       "2                    Allison, Miss Helen Loraine    1st   2.0  female   \n",
       "3            Allison, Mr Hudson Joshua Creighton    1st  30.0    male   \n",
       "4  Allison, Mrs Hudson JC (Bessie Waldo Daniels)    1st  25.0  female   \n",
       "\n",
       "   Survived  SexCode  \n",
       "1         1        1  \n",
       "2         0        1  \n",
       "3         0        0  \n",
       "4         0        1  "
      ]
     },
     "execution_count": 3,
     "metadata": {},
     "output_type": "execute_result"
    }
   ],
   "source": [
    "titanic_dataset.head(4)"
   ]
  },
  {
   "cell_type": "markdown",
   "metadata": {},
   "source": [
    "### O kolika pasažérech Titanicu víme?"
   ]
  },
  {
   "cell_type": "code",
   "execution_count": 4,
   "metadata": {
    "collapsed": false
   },
   "outputs": [
    {
     "name": "stdout",
     "output_type": "stream",
     "text": [
      "Titanic passengers count: 1313\n"
     ]
    }
   ],
   "source": [
    "passengers_count = len(titanic_dataset)\n",
    "\n",
    "print('Titanic passengers count: ' + str(passengers_count))"
   ]
  },
  {
   "cell_type": "markdown",
   "metadata": {},
   "source": [
    "### Kolik procent jich přežilo?"
   ]
  },
  {
   "cell_type": "code",
   "execution_count": 5,
   "metadata": {
    "collapsed": false
   },
   "outputs": [
    {
     "name": "stdout",
     "output_type": "stream",
     "text": [
      "Survived passengers: 34.27265803503427%\n"
     ]
    }
   ],
   "source": [
    "survived_passengers = titanic_dataset.loc[titanic_dataset['Survived'] == 1]\n",
    "survived_percent = len(survived_passengers)/passengers_count * 100\n",
    "\n",
    "print('Survived passengers: ' + str(survived_percent) + '%')"
   ]
  },
  {
   "cell_type": "markdown",
   "metadata": {},
   "source": [
    "### Kolik procent žen přežilo? Kolik procent mužů?"
   ]
  },
  {
   "cell_type": "code",
   "execution_count": 6,
   "metadata": {
    "collapsed": false
   },
   "outputs": [
    {
     "name": "stdout",
     "output_type": "stream",
     "text": [
      "Survived women: 66.66666666666666%\n",
      "Survived men: 16.686251468860164%\n"
     ]
    }
   ],
   "source": [
    "survived_women = survived_passengers.loc[survived_passengers['SexCode'] == 1]\n",
    "survived_men = survived_passengers.loc[survived_passengers['SexCode'] == 0]\n",
    "women_passengers = titanic_dataset.loc[titanic_dataset['SexCode'] == 1]\n",
    "men_passengers = titanic_dataset.loc[titanic_dataset['SexCode'] == 0]\n",
    "\n",
    "survived_women_percent = len(survived_women)/len(women_passengers) * 100\n",
    "survived_men_percent = len(survived_men)/len(men_passengers) * 100\n",
    "\n",
    "print('Survived women: ' + str(survived_women_percent) + '%')\n",
    "print('Survived men: ' + str(survived_men_percent) + '%')"
   ]
  },
  {
   "cell_type": "markdown",
   "metadata": {},
   "source": [
    "### Pro každou třídu vypište kolik pasažérů dané třídy nastoupilo na loď, kolik jich přežilo, a kolik to dělá procent přeživších."
   ]
  },
  {
   "cell_type": "code",
   "execution_count": 17,
   "metadata": {
    "collapsed": false
   },
   "outputs": [
    {
     "data": {
      "text/html": [
       "<div>\n",
       "<table border=\"1\" class=\"dataframe\">\n",
       "  <thead>\n",
       "    <tr style=\"text-align: right;\">\n",
       "      <th></th>\n",
       "      <th>Passengers</th>\n",
       "      <th>Survivors</th>\n",
       "      <th>% of total survivors</th>\n",
       "      <th>% of class survivors</th>\n",
       "    </tr>\n",
       "    <tr>\n",
       "      <th>Class</th>\n",
       "      <th></th>\n",
       "      <th></th>\n",
       "      <th></th>\n",
       "      <th></th>\n",
       "    </tr>\n",
       "  </thead>\n",
       "  <tbody>\n",
       "    <tr>\n",
       "      <th>1st</th>\n",
       "      <td>322</td>\n",
       "      <td>193.0</td>\n",
       "      <td>42.888889</td>\n",
       "      <td>59.937888</td>\n",
       "    </tr>\n",
       "    <tr>\n",
       "      <th>2nd</th>\n",
       "      <td>279</td>\n",
       "      <td>119.0</td>\n",
       "      <td>26.444444</td>\n",
       "      <td>42.652330</td>\n",
       "    </tr>\n",
       "    <tr>\n",
       "      <th>3rd</th>\n",
       "      <td>711</td>\n",
       "      <td>138.0</td>\n",
       "      <td>30.666667</td>\n",
       "      <td>19.409283</td>\n",
       "    </tr>\n",
       "  </tbody>\n",
       "</table>\n",
       "</div>"
      ],
      "text/plain": [
       "       Passengers  Survivors  % of total survivors  % of class survivors\n",
       "Class                                                                   \n",
       "1st           322      193.0             42.888889             59.937888\n",
       "2nd           279      119.0             26.444444             42.652330\n",
       "3rd           711      138.0             30.666667             19.409283"
      ]
     },
     "execution_count": 17,
     "metadata": {},
     "output_type": "execute_result"
    }
   ],
   "source": [
    "passenger_count_by_class = titanic_dataset.groupby('PClass')['Name'].count()\n",
    "\n",
    "survived_count_by_class = survived_passengers.groupby('PClass')['Name'].count()\n",
    "\n",
    "survived_percentage_by_total = survived_count_by_class.apply(lambda x: x/len(survived_passengers)) * 100\n",
    "\n",
    "survived_percentage_by_class = survived_count_by_class/passenger_count_by_class * 100\n",
    "\n",
    "class_data = pandas.DataFrame({'Passengers': passenger_count_by_class,\n",
    "                               'Survivors': survived_count_by_class,\n",
    "                               '% of total survivors': survived_percentage_by_total,\n",
    "                               '% of class survivors': survived_percentage_by_class})\n",
    "class_data = class_data[['Passengers', 'Survivors', '% of total survivors', '% of class survivors']].iloc[1:]\n",
    "class_data.index.name = 'Class'\n",
    "class_data"
   ]
  },
  {
   "cell_type": "markdown",
   "metadata": {},
   "source": [
    "### Vykreslete graf procenta přeživších podle dekády věku (t.j. procento pro 0-9 let, 10-19 let, atd.)."
   ]
  },
  {
   "cell_type": "code",
   "execution_count": 43,
   "metadata": {
    "collapsed": false
   },
   "outputs": [
    {
     "data": {
      "image/png": "[encoded data removed]",
      "text/plain": [
       "<matplotlib.figure.Figure at 0x7fde382366d8>"
      ]
     },
     "metadata": {},
     "output_type": "display_data"
    }
   ],
   "source": [
    "passengers_by_age = titanic_dataset.copy()\n",
    "survivors_by_age = survived_passengers.copy()\n",
    "\n",
    "# get maximum age\n",
    "max_age = passengers_by_age.ix[passengers_by_age['Age'].idxmax()]['Age']\n",
    "\n",
    "# assign each passenger age category\n",
    "passengers_by_age['age_range'] = pandas.cut(passengers_by_age['Age'], range(0,int(max_age+10),10), right=False)\n",
    "survivors_by_age['age_range'] = pandas.cut(survivors_by_age['Age'], range(0,int(max_age+10),10), right=False)\n",
    "\n",
    "# group passengers by their age categories\n",
    "passengers_by_age = passengers_by_age.groupby('age_range')['Name'].count()\n",
    "survivors_by_age = survivors_by_age.groupby('age_range')['Name'].count()\n",
    "\n",
    "# calculate survival ratio based on age and draw chart\n",
    "survivors_ratio_by_age = survivors_by_age/passengers_by_age * 100\n",
    "plot = survivors_ratio_by_age.plot.bar(legend=False, title=\"Survivors percantage depending on age\")\n",
    "plot.set_ylabel('% survived')\n",
    "plot.set_xlabel('age')\n",
    "matplotlib.pyplot.show()"
   ]
  },
  {
   "cell_type": "markdown",
   "metadata": {},
   "source": [
    "Note that age of many passengers (often the ones that died) is unknown and therefore the plot is not accurate. "
   ]
  },
  {
   "cell_type": "markdown",
   "metadata": {
    "collapsed": true
   },
   "source": [
    "### Závisí na sobě třída a věk pasažéra? Jak? Vykreslete graf(y), které tuto závislost znázorňují."
   ]
  },
  {
   "cell_type": "code",
   "execution_count": 178,
   "metadata": {
    "collapsed": false
   },
   "outputs": [
    {
     "data": {
      "image/png": "[encoded data removed]",
      "text/plain": [
       "<matplotlib.figure.Figure at 0x7fde07388eb8>"
      ]
     },
     "metadata": {},
     "output_type": "display_data"
    }
   ],
   "source": [
    "class_ratio_by_age = titanic_dataset.groupby(['Age','PClass']).count()\n",
    "class_ratio_by_age = class_ratio_by_age['Name'].to_frame()\n",
    "\n",
    "# convert PClass column values to columns\n",
    "class_ratio_by_age = class_ratio_by_age.reset_index().pivot(index='Age', columns='PClass', values='Name')\n",
    "class_ratio_by_age\n",
    "\n",
    "# group by full years\n",
    "import math\n",
    "class_ratio_by_age = class_ratio_by_age.reset_index()\n",
    "class_ratio_by_age['Age'] = class_ratio_by_age['Age'].apply(lambda x: math.ceil(x))\n",
    "class_ratio_by_age = class_ratio_by_age.groupby('Age').sum()\n",
    "\n",
    "# get percentage values\n",
    "class_ratio_by_age.fillna(0, inplace=True)\n",
    "class_ratio_by_age['Sum'] = class_ratio_by_age['1st'] + class_ratio_by_age['2nd'] + class_ratio_by_age['3rd']\n",
    "class_ratio_by_age['1st'] = class_ratio_by_age['1st'] / class_ratio_by_age['Sum'] * 100\n",
    "class_ratio_by_age['2nd'] = class_ratio_by_age['2nd'] / class_ratio_by_age['Sum'] * 100\n",
    "class_ratio_by_age['3rd'] = class_ratio_by_age['3rd'] / class_ratio_by_age['Sum'] * 100\n",
    "class_ratio_by_age.drop('Sum', 1, inplace=True)\n",
    "class_ratio_by_age\n",
    "\n",
    "# draw chart\n",
    "plot = class_ratio_by_age.plot.bar(legend=True, title=\"Relation between age and class\", stacked=True, width=1, xticks=[])\n",
    "plot.set_ylabel('% of passengers')\n",
    "plot.set_xlabel('Age')\n",
    "plot.legend(title='Class', labels=['1', '2', '3'])\n",
    "matplotlib.pyplot.show()"
   ]
  },
  {
   "cell_type": "code",
   "execution_count": null,
   "metadata": {
    "collapsed": true
   },
   "outputs": [],
   "source": []
  }
 ],
 "metadata": {
  "kernelspec": {
   "display_name": "Python 3",
   "language": "python",
   "name": "python3"
  },
  "language_info": {
   "codemirror_mode": {
    "name": "ipython",
    "version": 3
   },
   "file_extension": ".py",
   "mimetype": "text/x-python",
   "name": "python",
   "nbconvert_exporter": "python",
   "pygments_lexer": "ipython3",
   "version": "3.5.2"
  }
 },
 "nbformat": 4,
 "nbformat_minor": 1
}
